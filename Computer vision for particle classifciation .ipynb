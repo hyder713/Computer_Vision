{
 "cells": [
  {
   "cell_type": "code",
   "execution_count": 10,
   "id": "3a96151b",
   "metadata": {},
   "outputs": [],
   "source": [
    "from tensorflow.keras.preprocessing.image import ImageDataGenerator\n",
    "from tensorflow.keras.preprocessing import image\n",
    "from tensorflow.keras.optimizers import RMSprop\n",
    "import matplotlib.pyplot as plt\n",
    "import tensorflow as tf\n",
    "import numpy as np\n",
    "import cv2\n",
    "import os\n",
    "import csv\n",
    "import pandas as pd\n",
    "from pathlib import Path\n",
    "\n"
   ]
  },
  {
   "cell_type": "code",
   "execution_count": 11,
   "id": "ddb707a0",
   "metadata": {},
   "outputs": [],
   "source": [
    "img = image.load_img(\"train/Bead/100.PNG\")\n"
   ]
  },
  {
   "cell_type": "code",
   "execution_count": 12,
   "id": "4e8153fe",
   "metadata": {},
   "outputs": [
    {
     "data": {
      "text/plain": [
       "<matplotlib.image.AxesImage at 0x256c3fb7af0>"
      ]
     },
     "execution_count": 12,
     "metadata": {},
     "output_type": "execute_result"
    },
    {
     "data": {
      "image/png": "[encoded data removed]",
      "text/plain": [
       "<Figure size 432x288 with 1 Axes>"
      ]
     },
     "metadata": {
      "needs_background": "light"
     },
     "output_type": "display_data"
    }
   ],
   "source": [
    "plt.imshow(img)"
   ]
  },
  {
   "cell_type": "code",
   "execution_count": 5,
   "id": "fa53fba7",
   "metadata": {},
   "outputs": [
    {
     "data": {
      "text/plain": [
       "(29, 31, 3)"
      ]
     },
     "execution_count": 5,
     "metadata": {},
     "output_type": "execute_result"
    }
   ],
   "source": [
    "cv2.imread(\"train/Bead/100.PNG\").shape"
   ]
  },
  {
   "cell_type": "code",
   "execution_count": 6,
   "id": "0e392134",
   "metadata": {},
   "outputs": [
    {
     "data": {
      "text/plain": [
       "\"image = cv2.imread('train/Not_Bead/1.PNG')\\ncopy = image.copy()\\ngray = cv2.cvtColor(image, cv2.COLOR_BGR2GRAY)\\nthresh = cv2.threshold(gray,0,255,cv2.THRESH_OTSU + cv2.THRESH_BINARY)[1]\\n\\n\\ncnts = cv2.findContours(thresh, cv2.RETR_EXTERNAL, cv2.CHAIN_APPROX_SIMPLE)\\ncnts = cnts[0] if len(cnts) == 2 else cnts[1]\\n\\nROI_number = 0\\nfor c in cnts:\\n    area=cv2.contourArea(c)\\n    if area >200:\\n        cv2.drawContours(thresh,[c], -1,(0,0,0),-1)\\n        x,y,w,h = cv2.boundingRect(c)\\n        ROI = image[y:y+h, x:x+w]\\n        cv2.imwrite('{}.png'.format(ROI_number), ROI)\\n        cv2.rectangle(copy,(x,y),(x+w,y+h),(36,255,12),2)\\n        ROI_number += 1\\n\\n#cv2.imshow('thresh', thresh)\\ncv2.imshow('copy', copy)\\ncv2.waitKey()\""
      ]
     },
     "execution_count": 6,
     "metadata": {},
     "output_type": "execute_result"
    }
   ],
   "source": [
    "\"\"\"image = cv2.imread('train/Not_Bead/1.PNG')\n",
    "copy = image.copy()\n",
    "gray = cv2.cvtColor(image, cv2.COLOR_BGR2GRAY)\n",
    "thresh = cv2.threshold(gray,0,255,cv2.THRESH_OTSU + cv2.THRESH_BINARY)[1]\n",
    "\n",
    "\n",
    "cnts = cv2.findContours(thresh, cv2.RETR_EXTERNAL, cv2.CHAIN_APPROX_SIMPLE)\n",
    "cnts = cnts[0] if len(cnts) == 2 else cnts[1]\n",
    "\n",
    "ROI_number = 0\n",
    "for c in cnts:\n",
    "    area=cv2.contourArea(c)\n",
    "    if area >200:\n",
    "        cv2.drawContours(thresh,[c], -1,(0,0,0),-1)\n",
    "        x,y,w,h = cv2.boundingRect(c)\n",
    "        ROI = image[y:y+h, x:x+w]\n",
    "        cv2.imwrite('{}.png'.format(ROI_number), ROI)\n",
    "        cv2.rectangle(copy,(x,y),(x+w,y+h),(36,255,12),2)\n",
    "        ROI_number += 1\n",
    "\n",
    "#cv2.imshow('thresh', thresh)\n",
    "cv2.imshow('copy', copy)\n",
    "cv2.waitKey()\"\"\""
   ]
  },
  {
   "cell_type": "code",
   "execution_count": 13,
   "id": "a3f09965",
   "metadata": {},
   "outputs": [],
   "source": [
    "train=ImageDataGenerator(rescale=1/255)\n",
    "validation = ImageDataGenerator(rescale=1/255)"
   ]
  },
  {
   "cell_type": "code",
   "execution_count": 17,
   "id": "88225c3d",
   "metadata": {},
   "outputs": [
    {
     "name": "stdout",
     "output_type": "stream",
     "text": [
      "Found 750 images belonging to 2 classes.\n",
      "Found 640 images belonging to 2 classes.\n"
     ]
    }
   ],
   "source": [
    "train_dataset =train.flow_from_directory('train/',\n",
    "                                         target_size=(50,50),\n",
    "                                         batch_size=3,\n",
    "                                         class_mode =\"binary\")\n",
    "validation_dataset=train.flow_from_directory('validate/',\n",
    "                                        target_size=(50,50),\n",
    "                                        batch_size=3,\n",
    "                                        class_mode=\"binary\")                                  "
   ]
  },
  {
   "cell_type": "code",
   "execution_count": 9,
   "id": "2f0f0813",
   "metadata": {},
   "outputs": [
    {
     "ename": "OSError",
     "evalue": "[WinError 145] The directory is not empty: '.ipynb_checkpoints'",
     "output_type": "error",
     "traceback": [
      "\u001b[1;31m---------------------------------------------------------------------------\u001b[0m",
      "\u001b[1;31mOSError\u001b[0m                                   Traceback (most recent call last)",
      "\u001b[1;32m<ipython-input-9-8ddc0f059ba5>\u001b[0m in \u001b[0;36m<module>\u001b[1;34m\u001b[0m\n\u001b[1;32m----> 1\u001b[1;33m \u001b[0mos\u001b[0m\u001b[1;33m.\u001b[0m\u001b[0mrmdir\u001b[0m\u001b[1;33m(\u001b[0m\u001b[1;34m\".ipynb_checkpoints\"\u001b[0m\u001b[1;33m)\u001b[0m\u001b[1;33m\u001b[0m\u001b[1;33m\u001b[0m\u001b[0m\n\u001b[0m\u001b[0;32m      2\u001b[0m \u001b[0mdir\u001b[0m\u001b[1;33m=\u001b[0m \u001b[0mos\u001b[0m\u001b[1;33m.\u001b[0m\u001b[0mlistdir\u001b[0m\u001b[1;33m(\u001b[0m\u001b[1;34m\"Untitled Folder/\"\u001b[0m\u001b[1;33m)\u001b[0m\u001b[1;33m\u001b[0m\u001b[1;33m\u001b[0m\u001b[0m\n\u001b[0;32m      3\u001b[0m \u001b[0mprint\u001b[0m\u001b[1;33m(\u001b[0m\u001b[0mdir\u001b[0m\u001b[1;33m)\u001b[0m\u001b[1;33m\u001b[0m\u001b[1;33m\u001b[0m\u001b[0m\n",
      "\u001b[1;31mOSError\u001b[0m: [WinError 145] The directory is not empty: '.ipynb_checkpoints'"
     ]
    }
   ],
   "source": [
    "os.rmdir(\".ipynb_checkpoints\")\n",
    "dir= os.listdir(\"Untitled Folder/\")\n",
    "print(dir)\n"
   ]
  },
  {
   "cell_type": "code",
   "execution_count": 18,
   "id": "3af5d786",
   "metadata": {},
   "outputs": [
    {
     "data": {
      "text/plain": [
       "{'Bead': 0, 'Not_Bead': 1}"
      ]
     },
     "execution_count": 18,
     "metadata": {},
     "output_type": "execute_result"
    }
   ],
   "source": [
    "train_dataset.class_indices"
   ]
  },
  {
   "cell_type": "code",
   "execution_count": 19,
   "id": "3eaaa4b6",
   "metadata": {},
   "outputs": [
    {
     "data": {
      "text/plain": [
       "array([0, 0, 0, 0, 0, 0, 0, 0, 0, 0, 0, 0, 0, 0, 0, 0, 0, 0, 0, 0, 0, 0,\n",
       "       0, 0, 0, 0, 0, 0, 0, 0, 0, 0, 0, 0, 0, 0, 0, 0, 0, 0, 0, 0, 0, 0,\n",
       "       0, 0, 0, 0, 0, 0, 0, 0, 0, 0, 0, 0, 0, 0, 0, 0, 0, 0, 0, 0, 0, 0,\n",
       "       0, 0, 0, 0, 0, 0, 0, 0, 0, 0, 0, 0, 0, 0, 0, 0, 0, 0, 0, 0, 0, 0,\n",
       "       0, 0, 0, 0, 0, 0, 0, 0, 0, 0, 0, 0, 0, 0, 0, 0, 0, 0, 0, 0, 0, 0,\n",
       "       0, 0, 0, 0, 0, 0, 0, 0, 0, 0, 0, 0, 0, 0, 0, 0, 0, 0, 0, 0, 0, 0,\n",
       "       0, 0, 0, 0, 0, 0, 0, 0, 0, 0, 0, 0, 0, 0, 0, 0, 0, 0, 0, 0, 0, 0,\n",
       "       0, 0, 0, 0, 0, 0, 0, 0, 0, 0, 0, 0, 0, 0, 0, 0, 0, 0, 0, 0, 0, 0,\n",
       "       0, 0, 0, 0, 0, 0, 0, 0, 0, 0, 0, 0, 0, 0, 0, 0, 0, 0, 0, 0, 0, 0,\n",
       "       0, 0, 0, 0, 0, 0, 0, 0, 0, 0, 0, 0, 0, 0, 0, 0, 0, 0, 0, 0, 0, 0,\n",
       "       0, 0, 0, 0, 0, 0, 0, 0, 0, 0, 0, 0, 0, 0, 0, 0, 0, 0, 0, 0, 0, 0,\n",
       "       0, 0, 0, 0, 0, 0, 0, 0, 0, 0, 0, 0, 0, 0, 0, 0, 0, 0, 0, 0, 0, 0,\n",
       "       0, 0, 0, 0, 0, 0, 0, 0, 0, 0, 0, 0, 0, 0, 0, 0, 0, 0, 0, 0, 0, 0,\n",
       "       0, 0, 0, 0, 0, 0, 0, 0, 0, 0, 0, 0, 0, 0, 0, 0, 0, 0, 0, 0, 0, 0,\n",
       "       0, 0, 0, 0, 0, 0, 0, 0, 0, 0, 0, 0, 0, 0, 0, 0, 0, 1, 1, 1, 1, 1,\n",
       "       1, 1, 1, 1, 1, 1, 1, 1, 1, 1, 1, 1, 1, 1, 1, 1, 1, 1, 1, 1, 1, 1,\n",
       "       1, 1, 1, 1, 1, 1, 1, 1, 1, 1, 1, 1, 1, 1, 1, 1, 1, 1, 1, 1, 1, 1,\n",
       "       1, 1, 1, 1, 1, 1, 1, 1, 1, 1, 1, 1, 1, 1, 1, 1, 1, 1, 1, 1, 1, 1,\n",
       "       1, 1, 1, 1, 1, 1, 1, 1, 1, 1, 1, 1, 1, 1, 1, 1, 1, 1, 1, 1, 1, 1,\n",
       "       1, 1, 1, 1, 1, 1, 1, 1, 1, 1, 1, 1, 1, 1, 1, 1, 1, 1, 1, 1, 1, 1,\n",
       "       1, 1, 1, 1, 1, 1, 1, 1, 1, 1, 1, 1, 1, 1, 1, 1, 1, 1, 1, 1, 1, 1,\n",
       "       1, 1, 1, 1, 1, 1, 1, 1, 1, 1, 1, 1, 1, 1, 1, 1, 1, 1, 1, 1, 1, 1,\n",
       "       1, 1, 1, 1, 1, 1, 1, 1, 1, 1, 1, 1, 1, 1, 1, 1, 1, 1, 1, 1, 1, 1,\n",
       "       1, 1, 1, 1, 1, 1, 1, 1, 1, 1, 1, 1, 1, 1, 1, 1, 1, 1, 1, 1, 1, 1,\n",
       "       1, 1, 1, 1, 1, 1, 1, 1, 1, 1, 1, 1, 1, 1, 1, 1, 1, 1, 1, 1, 1, 1,\n",
       "       1, 1, 1, 1, 1, 1, 1, 1, 1, 1, 1, 1, 1, 1, 1, 1, 1, 1, 1, 1, 1, 1,\n",
       "       1, 1, 1, 1, 1, 1, 1, 1, 1, 1, 1, 1, 1, 1, 1, 1, 1, 1, 1, 1, 1, 1,\n",
       "       1, 1, 1, 1, 1, 1, 1, 1, 1, 1, 1, 1, 1, 1, 1, 1, 1, 1, 1, 1, 1, 1,\n",
       "       1, 1, 1, 1, 1, 1, 1, 1, 1, 1, 1, 1, 1, 1, 1, 1, 1, 1, 1, 1, 1, 1,\n",
       "       1, 1, 1, 1, 1, 1, 1, 1, 1, 1, 1, 1, 1, 1, 1, 1, 1, 1, 1, 1, 1, 1,\n",
       "       1, 1, 1, 1, 1, 1, 1, 1, 1, 1, 1, 1, 1, 1, 1, 1, 1, 1, 1, 1, 1, 1,\n",
       "       1, 1, 1, 1, 1, 1, 1, 1, 1, 1, 1, 1, 1, 1, 1, 1, 1, 1, 1, 1, 1, 1,\n",
       "       1, 1, 1, 1, 1, 1, 1, 1, 1, 1, 1, 1, 1, 1, 1, 1, 1, 1, 1, 1, 1, 1,\n",
       "       1, 1, 1, 1, 1, 1, 1, 1, 1, 1, 1, 1, 1, 1, 1, 1, 1, 1, 1, 1, 1, 1,\n",
       "       1, 1])"
      ]
     },
     "execution_count": 19,
     "metadata": {},
     "output_type": "execute_result"
    }
   ],
   "source": [
    "train_dataset.classes"
   ]
  },
  {
   "cell_type": "code",
   "execution_count": 20,
   "id": "b0fcbd1d",
   "metadata": {},
   "outputs": [],
   "source": [
    " model = tf.keras.models.Sequential([tf.keras.layers.Conv2D(16,(3,3), activation= 'relu', input_shape=(50,50,3)),\n",
    "                                      tf.keras.layers.MaxPool2D(2,2),\n",
    "                                      #\n",
    "                                      tf.keras.layers.Conv2D(32,(3,3),activation='relu'),\n",
    "                                      tf.keras.layers.MaxPool2D(2,2),\n",
    "                                      #\n",
    "                                      tf.keras.layers.Conv2D(64,(3,3),activation=\"relu\"),\n",
    "                                      tf.keras.layers.MaxPool2D(2,2),\n",
    "                                       #  \n",
    "                                      tf.keras.layers.Flatten(),\n",
    "                                    ##\n",
    "                                      tf.keras.layers.Dense(512,activation=\"relu\"),\n",
    "                                    ##\n",
    "                                    tf.keras.layers.Dense(1,activation='sigmoid')\n",
    "                                     ])"
   ]
  },
  {
   "cell_type": "code",
   "execution_count": 21,
   "id": "c06d39f6",
   "metadata": {},
   "outputs": [
    {
     "name": "stderr",
     "output_type": "stream",
     "text": [
      "C:\\Users\\Abdul Butt\\conda\\lib\\site-packages\\keras\\optimizer_v2\\optimizer_v2.py:355: UserWarning: The `lr` argument is deprecated, use `learning_rate` instead.\n",
      "  warnings.warn(\n"
     ]
    }
   ],
   "source": [
    "model.compile(loss='binary_crossentropy',\n",
    "             optimizer= RMSprop(lr=0.001),\n",
    "             metrics=['accuracy'])"
   ]
  },
  {
   "cell_type": "code",
   "execution_count": 22,
   "id": "7d5df9cb",
   "metadata": {},
   "outputs": [
    {
     "name": "stdout",
     "output_type": "stream",
     "text": [
      "Epoch 1/30\n",
      "5/5 [==============================] - 4s 510ms/step - loss: 0.8374 - accuracy: 0.6667 - val_loss: 0.3776 - val_accuracy: 0.8734\n",
      "Epoch 2/30\n",
      "5/5 [==============================] - 1s 310ms/step - loss: 0.3831 - accuracy: 0.9333 - val_loss: 1.0924 - val_accuracy: 0.2062\n",
      "Epoch 3/30\n",
      "5/5 [==============================] - 1s 344ms/step - loss: 0.6443 - accuracy: 0.6000 - val_loss: 0.3713 - val_accuracy: 0.8281\n",
      "Epoch 4/30\n",
      "5/5 [==============================] - 1s 312ms/step - loss: 0.1445 - accuracy: 0.9333 - val_loss: 0.4887 - val_accuracy: 0.8266\n",
      "Epoch 5/30\n",
      "5/5 [==============================] - 1s 316ms/step - loss: 0.0552 - accuracy: 1.0000 - val_loss: 0.7472 - val_accuracy: 0.8266\n",
      "Epoch 6/30\n",
      "5/5 [==============================] - 2s 392ms/step - loss: 0.0157 - accuracy: 1.0000 - val_loss: 0.8678 - val_accuracy: 0.8266\n",
      "Epoch 7/30\n",
      "5/5 [==============================] - 1s 297ms/step - loss: 0.0062 - accuracy: 1.0000 - val_loss: 0.9383 - val_accuracy: 0.8266\n",
      "Epoch 8/30\n",
      "5/5 [==============================] - 1s 315ms/step - loss: 0.0061 - accuracy: 1.0000 - val_loss: 1.2011 - val_accuracy: 0.8219\n",
      "Epoch 9/30\n",
      "5/5 [==============================] - 1s 313ms/step - loss: 0.0039 - accuracy: 1.0000 - val_loss: 1.2038 - val_accuracy: 0.8266\n",
      "Epoch 10/30\n",
      "5/5 [==============================] - 1s 311ms/step - loss: 0.0019 - accuracy: 1.0000 - val_loss: 1.3248 - val_accuracy: 0.8266\n",
      "Epoch 11/30\n",
      "5/5 [==============================] - 1s 305ms/step - loss: 0.0019 - accuracy: 1.0000 - val_loss: 1.5199 - val_accuracy: 0.8234\n",
      "Epoch 12/30\n",
      "5/5 [==============================] - 1s 315ms/step - loss: 9.1590e-04 - accuracy: 1.0000 - val_loss: 1.5004 - val_accuracy: 0.8266\n",
      "Epoch 13/30\n",
      "5/5 [==============================] - 1s 307ms/step - loss: 8.6862e-04 - accuracy: 1.0000 - val_loss: 1.6236 - val_accuracy: 0.8266\n",
      "Epoch 14/30\n",
      "5/5 [==============================] - 1s 302ms/step - loss: 3.9974e-04 - accuracy: 1.0000 - val_loss: 1.6327 - val_accuracy: 0.8266\n",
      "Epoch 15/30\n",
      "5/5 [==============================] - 1s 303ms/step - loss: 8.3431e-04 - accuracy: 1.0000 - val_loss: 2.2392 - val_accuracy: 0.7984\n",
      "Epoch 16/30\n",
      "5/5 [==============================] - 1s 309ms/step - loss: 0.8794 - accuracy: 0.8667 - val_loss: 1.3468 - val_accuracy: 0.8125\n",
      "Epoch 17/30\n",
      "5/5 [==============================] - 1s 314ms/step - loss: 0.0937 - accuracy: 0.9333 - val_loss: 0.5245 - val_accuracy: 0.8266\n",
      "Epoch 18/30\n",
      "5/5 [==============================] - 1s 299ms/step - loss: 0.0284 - accuracy: 1.0000 - val_loss: 1.0280 - val_accuracy: 0.8266\n",
      "Epoch 19/30\n",
      "5/5 [==============================] - 1s 315ms/step - loss: 0.0028 - accuracy: 1.0000 - val_loss: 1.1631 - val_accuracy: 0.8266\n",
      "Epoch 20/30\n",
      "5/5 [==============================] - 1s 309ms/step - loss: 0.0043 - accuracy: 1.0000 - val_loss: 1.0754 - val_accuracy: 0.8266\n",
      "Epoch 21/30\n",
      "5/5 [==============================] - 1s 331ms/step - loss: 0.0022 - accuracy: 1.0000 - val_loss: 1.2936 - val_accuracy: 0.8266\n",
      "Epoch 22/30\n",
      "5/5 [==============================] - 1s 339ms/step - loss: 3.1785e-04 - accuracy: 1.0000 - val_loss: 1.3242 - val_accuracy: 0.8266\n",
      "Epoch 23/30\n",
      "5/5 [==============================] - 1s 319ms/step - loss: 7.0857e-04 - accuracy: 1.0000 - val_loss: 1.4712 - val_accuracy: 0.8266\n",
      "Epoch 24/30\n",
      "5/5 [==============================] - 1s 325ms/step - loss: 1.7566e-04 - accuracy: 1.0000 - val_loss: 1.4795 - val_accuracy: 0.8266\n",
      "Epoch 25/30\n",
      "5/5 [==============================] - 1s 312ms/step - loss: 1.5673e-04 - accuracy: 1.0000 - val_loss: 1.5067 - val_accuracy: 0.8266\n",
      "Epoch 26/30\n",
      "5/5 [==============================] - 1s 302ms/step - loss: 2.6831e-04 - accuracy: 1.0000 - val_loss: 1.6224 - val_accuracy: 0.8266\n",
      "Epoch 27/30\n",
      "5/5 [==============================] - 1s 316ms/step - loss: 2.1948e-04 - accuracy: 1.0000 - val_loss: 1.7056 - val_accuracy: 0.8266\n",
      "Epoch 28/30\n",
      "5/5 [==============================] - 1s 310ms/step - loss: 8.6682e-05 - accuracy: 1.0000 - val_loss: 1.7280 - val_accuracy: 0.8266\n",
      "Epoch 29/30\n",
      "5/5 [==============================] - 1s 291ms/step - loss: 1.9776e-04 - accuracy: 1.0000 - val_loss: 1.9263 - val_accuracy: 0.8266\n",
      "Epoch 30/30\n",
      "5/5 [==============================] - 2s 379ms/step - loss: 9.4522e-05 - accuracy: 1.0000 - val_loss: 1.8914 - val_accuracy: 0.8266\n"
     ]
    }
   ],
   "source": [
    "model_fit= model.fit(train_dataset,\n",
    "                    steps_per_epoch=5,\n",
    "                    epochs=30,\n",
    "                    validation_data=validation_dataset)"
   ]
  },
  {
   "cell_type": "code",
   "execution_count": 45,
   "id": "631b5dc6",
   "metadata": {},
   "outputs": [],
   "source": [
    "dir_path=\"test/Not_bead\"\n",
    "outputs = []\n",
    "for i in os.listdir(dir_path ):\n",
    "    img=image.load_img(dir_path+'//'+i, target_size=(50,50) )\n",
    "    #plt.imshow(img)\n",
    "    #plt.show()\n",
    "    \n",
    "    x=image.img_to_array(img)\n",
    "    x=np.expand_dims(x,axis=0)\n",
    "    images=np.vstack([x])\n",
    "    val= model.predict(images)\n",
    "    outputs.append(val)\n",
    "    \n",
    "    #print(val)\n",
    "    #print(type(val))\n",
    "    #a=np.array(val)\n",
    "    #df=pd.DataFrame({\"data\": [a]})\n",
    "\n",
    "    \n",
    "    if val == 0:\n",
    "        pass#print(\"bead\")\n",
    "    else:\n",
    "        pass#print(\"not bead\")\n",
    "    \n",
    "with open(\"Data.csv\", 'w') as f:\n",
    "    for i in outputs:    \n",
    "\n",
    "    \n",
    "\n",
    "        print( i, end=\",\", file=f)"
   ]
  },
  {
   "cell_type": "code",
   "execution_count": null,
   "id": "5de142ce",
   "metadata": {},
   "outputs": [],
   "source": [
    "cwd = os.getcwd()\n",
    "files=os.listdir(cwd)\n",
    "print(cwd,files)"
   ]
  },
  {
   "cell_type": "code",
   "execution_count": 37,
   "id": "d68383b8",
   "metadata": {},
   "outputs": [
    {
     "name": "stdout",
     "output_type": "stream",
     "text": [
      "The Array is : \n",
      "2 4 5 7 9 "
     ]
    }
   ],
   "source": [
    "arr = [2,4,5,7,9]\n",
    "arr_2d = [[1,2],[3,4]]\n",
    " \n",
    "#printing the array\n",
    "print(\"The Array is : \")\n",
    "for i in arr:\n",
    "    print(i, end = ' ')"
   ]
  },
  {
   "cell_type": "code",
   "execution_count": null,
   "id": "5a67d947",
   "metadata": {},
   "outputs": [],
   "source": []
  }
 ],
 "metadata": {
  "kernelspec": {
   "display_name": "Python 3",
   "language": "python",
   "name": "python3"
  },
  "language_info": {
   "codemirror_mode": {
    "name": "ipython",
    "version": 3
   },
   "file_extension": ".py",
   "mimetype": "text/x-python",
   "name": "python",
   "nbconvert_exporter": "python",
   "pygments_lexer": "ipython3",
   "version": "3.8.8"
  }
 },
 "nbformat": 4,
 "nbformat_minor": 5
}
